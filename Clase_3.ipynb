{
  "nbformat": 4,
  "nbformat_minor": 0,
  "metadata": {
    "colab": {
      "provenance": [],
      "include_colab_link": true
    },
    "kernelspec": {
      "name": "python3",
      "display_name": "Python 3"
    },
    "language_info": {
      "name": "python"
    }
  },
  "cells": [
    {
      "cell_type": "markdown",
      "metadata": {
        "id": "view-in-github",
        "colab_type": "text"
      },
      "source": [
        "<a href=\"https://colab.research.google.com/github/alvaromunaylla/Bioinfo_2025/blob/main/Clase_3.ipynb\" target=\"_parent\"><img src=\"https://colab.research.google.com/assets/colab-badge.svg\" alt=\"Open In Colab\"/></a>"
      ]
    },
    {
      "cell_type": "markdown",
      "source": [
        "# 🧬 Notebook: Bases de datos transcriptómicas y proteómicas\n",
        "\n",
        "En esta práctica trabajaremos con datos públicos de transcriptómica (GEO) y proteómica (PRIDE). Aprenderemos a acceder, explorar y visualizar estos datos usando Python y herramientas bioinformáticas."
      ],
      "metadata": {
        "id": "zTUwVZ1DzTd1"
      }
    },
    {
      "cell_type": "markdown",
      "source": [
        "## 🟦 1. Acceso a datos de GEO\n",
        "\n",
        "\n",
        "### 🔍 Acceso a datos de GEO\n",
        "\n",
        "Usaremos la librería `GEOparse` para descargar y explorar un conjunto de datos transcriptómicos. GEO contiene datos de microarreglos y RNA-seq de miles de estudios.\n",
        "\n",
        "📦 Primero, instalamos la librería:\n"
      ],
      "metadata": {
        "id": "8VpKSqXnzX3f"
      }
    },
    {
      "cell_type": "code",
      "source": [
        "!pip install GEOparse"
      ],
      "metadata": {
        "colab": {
          "base_uri": "https://localhost:8080/"
        },
        "collapsed": true,
        "id": "y28zFDkl0jBO",
        "outputId": "2a73f69c-9c94-4042-f085-43a6e1a31157"
      },
      "execution_count": null,
      "outputs": [
        {
          "output_type": "stream",
          "name": "stdout",
          "text": [
            "Collecting GEOparse\n",
            "  Downloading GEOparse-2.0.4-py3-none-any.whl.metadata (6.5 kB)\n",
            "Requirement already satisfied: numpy>=1.7 in /usr/local/lib/python3.12/dist-packages (from GEOparse) (2.0.2)\n",
            "Requirement already satisfied: pandas>=0.17 in /usr/local/lib/python3.12/dist-packages (from GEOparse) (2.2.2)\n",
            "Requirement already satisfied: requests>=2.21.0 in /usr/local/lib/python3.12/dist-packages (from GEOparse) (2.32.4)\n",
            "Requirement already satisfied: tqdm>=4.31.1 in /usr/local/lib/python3.12/dist-packages (from GEOparse) (4.67.1)\n",
            "Requirement already satisfied: python-dateutil>=2.8.2 in /usr/local/lib/python3.12/dist-packages (from pandas>=0.17->GEOparse) (2.9.0.post0)\n",
            "Requirement already satisfied: pytz>=2020.1 in /usr/local/lib/python3.12/dist-packages (from pandas>=0.17->GEOparse) (2025.2)\n",
            "Requirement already satisfied: tzdata>=2022.7 in /usr/local/lib/python3.12/dist-packages (from pandas>=0.17->GEOparse) (2025.2)\n",
            "Requirement already satisfied: charset_normalizer<4,>=2 in /usr/local/lib/python3.12/dist-packages (from requests>=2.21.0->GEOparse) (3.4.3)\n",
            "Requirement already satisfied: idna<4,>=2.5 in /usr/local/lib/python3.12/dist-packages (from requests>=2.21.0->GEOparse) (3.10)\n",
            "Requirement already satisfied: urllib3<3,>=1.21.1 in /usr/local/lib/python3.12/dist-packages (from requests>=2.21.0->GEOparse) (2.5.0)\n",
            "Requirement already satisfied: certifi>=2017.4.17 in /usr/local/lib/python3.12/dist-packages (from requests>=2.21.0->GEOparse) (2025.8.3)\n",
            "Requirement already satisfied: six>=1.5 in /usr/local/lib/python3.12/dist-packages (from python-dateutil>=2.8.2->pandas>=0.17->GEOparse) (1.17.0)\n",
            "Downloading GEOparse-2.0.4-py3-none-any.whl (29 kB)\n",
            "Installing collected packages: GEOparse\n",
            "Successfully installed GEOparse-2.0.4\n"
          ]
        }
      ]
    },
    {
      "cell_type": "code",
      "source": [
        "import GEOparse\n",
        "\n",
        "# Descargamos un dataset de ejemplo (puedes cambiar el ID por otro)\n",
        "gse = GEOparse.get_GEO(geo=\"GSE124646\", destdir=\"./\")\n",
        "\n",
        "# Mostramos información general\n",
        "print(gse.metadata)\n"
      ],
      "metadata": {
        "colab": {
          "base_uri": "https://localhost:8080/"
        },
        "id": "zJ8vr_yW0ehK",
        "outputId": "d4edc7c6-8aa0-49fb-b927-627a0a1bcde6"
      },
      "execution_count": null,
      "outputs": [
        {
          "output_type": "stream",
          "name": "stderr",
          "text": [
            "27-Sep-2025 00:29:06 DEBUG utils - Directory ./ already exists. Skipping.\n",
            "DEBUG:GEOparse:Directory ./ already exists. Skipping.\n",
            "27-Sep-2025 00:29:06 INFO GEOparse - File already exist: using local version.\n",
            "INFO:GEOparse:File already exist: using local version.\n",
            "27-Sep-2025 00:29:06 INFO GEOparse - Parsing ./GSE124646_family.soft.gz: \n",
            "INFO:GEOparse:Parsing ./GSE124646_family.soft.gz: \n",
            "27-Sep-2025 00:29:06 DEBUG GEOparse - DATABASE: GeoMiame\n",
            "DEBUG:GEOparse:DATABASE: GeoMiame\n",
            "27-Sep-2025 00:29:06 DEBUG GEOparse - SERIES: GSE124646\n",
            "DEBUG:GEOparse:SERIES: GSE124646\n",
            "27-Sep-2025 00:29:06 DEBUG GEOparse - PLATFORM: GPL96\n",
            "DEBUG:GEOparse:PLATFORM: GPL96\n",
            "27-Sep-2025 00:29:07 DEBUG GEOparse - SAMPLE: GSM3538397\n",
            "DEBUG:GEOparse:SAMPLE: GSM3538397\n",
            "27-Sep-2025 00:29:07 DEBUG GEOparse - SAMPLE: GSM3538398\n",
            "DEBUG:GEOparse:SAMPLE: GSM3538398\n",
            "27-Sep-2025 00:29:07 DEBUG GEOparse - SAMPLE: GSM3538399\n",
            "DEBUG:GEOparse:SAMPLE: GSM3538399\n",
            "27-Sep-2025 00:29:07 DEBUG GEOparse - SAMPLE: GSM3538400\n",
            "DEBUG:GEOparse:SAMPLE: GSM3538400\n",
            "27-Sep-2025 00:29:07 DEBUG GEOparse - SAMPLE: GSM3538401\n",
            "DEBUG:GEOparse:SAMPLE: GSM3538401\n",
            "27-Sep-2025 00:29:07 DEBUG GEOparse - SAMPLE: GSM3538402\n",
            "DEBUG:GEOparse:SAMPLE: GSM3538402\n",
            "27-Sep-2025 00:29:07 DEBUG GEOparse - SAMPLE: GSM3538403\n",
            "DEBUG:GEOparse:SAMPLE: GSM3538403\n",
            "27-Sep-2025 00:29:07 DEBUG GEOparse - SAMPLE: GSM3538404\n",
            "DEBUG:GEOparse:SAMPLE: GSM3538404\n",
            "27-Sep-2025 00:29:07 DEBUG GEOparse - SAMPLE: GSM3538405\n",
            "DEBUG:GEOparse:SAMPLE: GSM3538405\n",
            "27-Sep-2025 00:29:07 DEBUG GEOparse - SAMPLE: GSM3538406\n",
            "DEBUG:GEOparse:SAMPLE: GSM3538406\n",
            "27-Sep-2025 00:29:07 DEBUG GEOparse - SAMPLE: GSM3538407\n",
            "DEBUG:GEOparse:SAMPLE: GSM3538407\n",
            "27-Sep-2025 00:29:07 DEBUG GEOparse - SAMPLE: GSM3538408\n",
            "DEBUG:GEOparse:SAMPLE: GSM3538408\n",
            "27-Sep-2025 00:29:07 DEBUG GEOparse - SAMPLE: GSM3538409\n",
            "DEBUG:GEOparse:SAMPLE: GSM3538409\n",
            "27-Sep-2025 00:29:07 DEBUG GEOparse - SAMPLE: GSM3538410\n",
            "DEBUG:GEOparse:SAMPLE: GSM3538410\n",
            "27-Sep-2025 00:29:07 DEBUG GEOparse - SAMPLE: GSM3538411\n",
            "DEBUG:GEOparse:SAMPLE: GSM3538411\n",
            "27-Sep-2025 00:29:08 DEBUG GEOparse - SAMPLE: GSM3538412\n",
            "DEBUG:GEOparse:SAMPLE: GSM3538412\n",
            "27-Sep-2025 00:29:08 DEBUG GEOparse - SAMPLE: GSM3538413\n",
            "DEBUG:GEOparse:SAMPLE: GSM3538413\n",
            "27-Sep-2025 00:29:08 DEBUG GEOparse - SAMPLE: GSM3538414\n",
            "DEBUG:GEOparse:SAMPLE: GSM3538414\n",
            "27-Sep-2025 00:29:08 DEBUG GEOparse - SAMPLE: GSM3538415\n",
            "DEBUG:GEOparse:SAMPLE: GSM3538415\n",
            "27-Sep-2025 00:29:08 DEBUG GEOparse - SAMPLE: GSM3538416\n",
            "DEBUG:GEOparse:SAMPLE: GSM3538416\n",
            "27-Sep-2025 00:29:08 DEBUG GEOparse - SAMPLE: GSM3538417\n",
            "DEBUG:GEOparse:SAMPLE: GSM3538417\n",
            "27-Sep-2025 00:29:08 DEBUG GEOparse - SAMPLE: GSM3538418\n",
            "DEBUG:GEOparse:SAMPLE: GSM3538418\n",
            "27-Sep-2025 00:29:08 DEBUG GEOparse - SAMPLE: GSM3538419\n",
            "DEBUG:GEOparse:SAMPLE: GSM3538419\n",
            "27-Sep-2025 00:29:08 DEBUG GEOparse - SAMPLE: GSM3538420\n",
            "DEBUG:GEOparse:SAMPLE: GSM3538420\n",
            "27-Sep-2025 00:29:08 DEBUG GEOparse - SAMPLE: GSM3538421\n",
            "DEBUG:GEOparse:SAMPLE: GSM3538421\n",
            "27-Sep-2025 00:29:08 DEBUG GEOparse - SAMPLE: GSM3538422\n",
            "DEBUG:GEOparse:SAMPLE: GSM3538422\n",
            "27-Sep-2025 00:29:08 DEBUG GEOparse - SAMPLE: GSM3538423\n",
            "DEBUG:GEOparse:SAMPLE: GSM3538423\n",
            "27-Sep-2025 00:29:08 DEBUG GEOparse - SAMPLE: GSM3538424\n",
            "DEBUG:GEOparse:SAMPLE: GSM3538424\n",
            "27-Sep-2025 00:29:08 DEBUG GEOparse - SAMPLE: GSM3538425\n",
            "DEBUG:GEOparse:SAMPLE: GSM3538425\n",
            "27-Sep-2025 00:29:08 DEBUG GEOparse - SAMPLE: GSM3538426\n",
            "DEBUG:GEOparse:SAMPLE: GSM3538426\n",
            "27-Sep-2025 00:29:08 DEBUG GEOparse - SAMPLE: GSM3538427\n",
            "DEBUG:GEOparse:SAMPLE: GSM3538427\n",
            "27-Sep-2025 00:29:08 DEBUG GEOparse - SAMPLE: GSM3538428\n",
            "DEBUG:GEOparse:SAMPLE: GSM3538428\n",
            "27-Sep-2025 00:29:08 DEBUG GEOparse - SAMPLE: GSM3538429\n",
            "DEBUG:GEOparse:SAMPLE: GSM3538429\n",
            "27-Sep-2025 00:29:08 DEBUG GEOparse - SAMPLE: GSM3538430\n",
            "DEBUG:GEOparse:SAMPLE: GSM3538430\n",
            "27-Sep-2025 00:29:08 DEBUG GEOparse - SAMPLE: GSM3538431\n",
            "DEBUG:GEOparse:SAMPLE: GSM3538431\n",
            "27-Sep-2025 00:29:08 DEBUG GEOparse - SAMPLE: GSM3538432\n",
            "DEBUG:GEOparse:SAMPLE: GSM3538432\n",
            "27-Sep-2025 00:29:09 DEBUG GEOparse - SAMPLE: GSM3538433\n",
            "DEBUG:GEOparse:SAMPLE: GSM3538433\n",
            "27-Sep-2025 00:29:09 DEBUG GEOparse - SAMPLE: GSM3538434\n",
            "DEBUG:GEOparse:SAMPLE: GSM3538434\n",
            "27-Sep-2025 00:29:09 DEBUG GEOparse - SAMPLE: GSM3538435\n",
            "DEBUG:GEOparse:SAMPLE: GSM3538435\n",
            "27-Sep-2025 00:29:09 DEBUG GEOparse - SAMPLE: GSM3538436\n",
            "DEBUG:GEOparse:SAMPLE: GSM3538436\n",
            "27-Sep-2025 00:29:09 DEBUG GEOparse - SAMPLE: GSM3538437\n",
            "DEBUG:GEOparse:SAMPLE: GSM3538437\n",
            "27-Sep-2025 00:29:09 DEBUG GEOparse - SAMPLE: GSM3538438\n",
            "DEBUG:GEOparse:SAMPLE: GSM3538438\n",
            "27-Sep-2025 00:29:09 DEBUG GEOparse - SAMPLE: GSM3538439\n",
            "DEBUG:GEOparse:SAMPLE: GSM3538439\n",
            "27-Sep-2025 00:29:09 DEBUG GEOparse - SAMPLE: GSM3538440\n",
            "DEBUG:GEOparse:SAMPLE: GSM3538440\n",
            "27-Sep-2025 00:29:09 DEBUG GEOparse - SAMPLE: GSM3538441\n",
            "DEBUG:GEOparse:SAMPLE: GSM3538441\n",
            "27-Sep-2025 00:29:09 DEBUG GEOparse - SAMPLE: GSM3538442\n",
            "DEBUG:GEOparse:SAMPLE: GSM3538442\n",
            "27-Sep-2025 00:29:09 DEBUG GEOparse - SAMPLE: GSM3538443\n",
            "DEBUG:GEOparse:SAMPLE: GSM3538443\n",
            "27-Sep-2025 00:29:09 DEBUG GEOparse - SAMPLE: GSM3538444\n",
            "DEBUG:GEOparse:SAMPLE: GSM3538444\n",
            "27-Sep-2025 00:29:09 DEBUG GEOparse - SAMPLE: GSM3538445\n",
            "DEBUG:GEOparse:SAMPLE: GSM3538445\n",
            "27-Sep-2025 00:29:09 DEBUG GEOparse - SAMPLE: GSM3538446\n",
            "DEBUG:GEOparse:SAMPLE: GSM3538446\n",
            "27-Sep-2025 00:29:09 DEBUG GEOparse - SAMPLE: GSM3538447\n",
            "DEBUG:GEOparse:SAMPLE: GSM3538447\n",
            "27-Sep-2025 00:29:09 DEBUG GEOparse - SAMPLE: GSM3538448\n",
            "DEBUG:GEOparse:SAMPLE: GSM3538448\n",
            "27-Sep-2025 00:29:09 DEBUG GEOparse - SAMPLE: GSM3538449\n",
            "DEBUG:GEOparse:SAMPLE: GSM3538449\n",
            "27-Sep-2025 00:29:09 DEBUG GEOparse - SAMPLE: GSM3538450\n",
            "DEBUG:GEOparse:SAMPLE: GSM3538450\n",
            "27-Sep-2025 00:29:09 DEBUG GEOparse - SAMPLE: GSM3538451\n",
            "DEBUG:GEOparse:SAMPLE: GSM3538451\n",
            "27-Sep-2025 00:29:09 DEBUG GEOparse - SAMPLE: GSM3538452\n",
            "DEBUG:GEOparse:SAMPLE: GSM3538452\n",
            "27-Sep-2025 00:29:10 DEBUG GEOparse - SAMPLE: GSM3538453\n",
            "DEBUG:GEOparse:SAMPLE: GSM3538453\n",
            "27-Sep-2025 00:29:10 DEBUG GEOparse - SAMPLE: GSM3538454\n",
            "DEBUG:GEOparse:SAMPLE: GSM3538454\n",
            "27-Sep-2025 00:29:10 DEBUG GEOparse - SAMPLE: GSM3538455\n",
            "DEBUG:GEOparse:SAMPLE: GSM3538455\n",
            "27-Sep-2025 00:29:10 DEBUG GEOparse - SAMPLE: GSM3538456\n",
            "DEBUG:GEOparse:SAMPLE: GSM3538456\n",
            "27-Sep-2025 00:29:10 DEBUG GEOparse - SAMPLE: GSM3538457\n",
            "DEBUG:GEOparse:SAMPLE: GSM3538457\n",
            "27-Sep-2025 00:29:10 DEBUG GEOparse - SAMPLE: GSM3538458\n",
            "DEBUG:GEOparse:SAMPLE: GSM3538458\n",
            "27-Sep-2025 00:29:10 DEBUG GEOparse - SAMPLE: GSM3538459\n",
            "DEBUG:GEOparse:SAMPLE: GSM3538459\n",
            "27-Sep-2025 00:29:10 DEBUG GEOparse - SAMPLE: GSM3538460\n",
            "DEBUG:GEOparse:SAMPLE: GSM3538460\n",
            "27-Sep-2025 00:29:10 DEBUG GEOparse - SAMPLE: GSM3538461\n",
            "DEBUG:GEOparse:SAMPLE: GSM3538461\n",
            "27-Sep-2025 00:29:10 DEBUG GEOparse - SAMPLE: GSM3538462\n",
            "DEBUG:GEOparse:SAMPLE: GSM3538462\n",
            "27-Sep-2025 00:29:10 DEBUG GEOparse - SAMPLE: GSM3538463\n",
            "DEBUG:GEOparse:SAMPLE: GSM3538463\n",
            "27-Sep-2025 00:29:10 DEBUG GEOparse - SAMPLE: GSM3538464\n",
            "DEBUG:GEOparse:SAMPLE: GSM3538464\n",
            "27-Sep-2025 00:29:10 DEBUG GEOparse - SAMPLE: GSM3538465\n",
            "DEBUG:GEOparse:SAMPLE: GSM3538465\n",
            "27-Sep-2025 00:29:10 DEBUG GEOparse - SAMPLE: GSM3538466\n",
            "DEBUG:GEOparse:SAMPLE: GSM3538466\n",
            "27-Sep-2025 00:29:11 DEBUG GEOparse - SAMPLE: GSM3538467\n",
            "DEBUG:GEOparse:SAMPLE: GSM3538467\n",
            "27-Sep-2025 00:29:11 DEBUG GEOparse - SAMPLE: GSM3538468\n",
            "DEBUG:GEOparse:SAMPLE: GSM3538468\n",
            "27-Sep-2025 00:29:11 DEBUG GEOparse - SAMPLE: GSM3538469\n",
            "DEBUG:GEOparse:SAMPLE: GSM3538469\n",
            "27-Sep-2025 00:29:11 DEBUG GEOparse - SAMPLE: GSM3538470\n",
            "DEBUG:GEOparse:SAMPLE: GSM3538470\n",
            "27-Sep-2025 00:29:11 DEBUG GEOparse - SAMPLE: GSM3538471\n",
            "DEBUG:GEOparse:SAMPLE: GSM3538471\n",
            "27-Sep-2025 00:29:11 DEBUG GEOparse - SAMPLE: GSM3538472\n",
            "DEBUG:GEOparse:SAMPLE: GSM3538472\n",
            "27-Sep-2025 00:29:11 DEBUG GEOparse - SAMPLE: GSM3538473\n",
            "DEBUG:GEOparse:SAMPLE: GSM3538473\n",
            "27-Sep-2025 00:29:11 DEBUG GEOparse - SAMPLE: GSM3538474\n",
            "DEBUG:GEOparse:SAMPLE: GSM3538474\n",
            "27-Sep-2025 00:29:11 DEBUG GEOparse - SAMPLE: GSM3538475\n",
            "DEBUG:GEOparse:SAMPLE: GSM3538475\n",
            "27-Sep-2025 00:29:11 DEBUG GEOparse - SAMPLE: GSM3538476\n",
            "DEBUG:GEOparse:SAMPLE: GSM3538476\n",
            "27-Sep-2025 00:29:11 DEBUG GEOparse - SAMPLE: GSM3538477\n",
            "DEBUG:GEOparse:SAMPLE: GSM3538477\n",
            "27-Sep-2025 00:29:11 DEBUG GEOparse - SAMPLE: GSM3538478\n",
            "DEBUG:GEOparse:SAMPLE: GSM3538478\n",
            "27-Sep-2025 00:29:11 DEBUG GEOparse - SAMPLE: GSM3538479\n",
            "DEBUG:GEOparse:SAMPLE: GSM3538479\n",
            "27-Sep-2025 00:29:12 DEBUG GEOparse - SAMPLE: GSM3538480\n",
            "DEBUG:GEOparse:SAMPLE: GSM3538480\n",
            "27-Sep-2025 00:29:12 DEBUG GEOparse - SAMPLE: GSM3538481\n",
            "DEBUG:GEOparse:SAMPLE: GSM3538481\n",
            "27-Sep-2025 00:29:12 DEBUG GEOparse - SAMPLE: GSM3538482\n",
            "DEBUG:GEOparse:SAMPLE: GSM3538482\n",
            "27-Sep-2025 00:29:12 DEBUG GEOparse - SAMPLE: GSM3538483\n",
            "DEBUG:GEOparse:SAMPLE: GSM3538483\n",
            "27-Sep-2025 00:29:12 DEBUG GEOparse - SAMPLE: GSM3538484\n",
            "DEBUG:GEOparse:SAMPLE: GSM3538484\n",
            "27-Sep-2025 00:29:12 DEBUG GEOparse - SAMPLE: GSM3538485\n",
            "DEBUG:GEOparse:SAMPLE: GSM3538485\n",
            "27-Sep-2025 00:29:12 DEBUG GEOparse - SAMPLE: GSM3538486\n",
            "DEBUG:GEOparse:SAMPLE: GSM3538486\n",
            "27-Sep-2025 00:29:12 DEBUG GEOparse - SAMPLE: GSM3538487\n",
            "DEBUG:GEOparse:SAMPLE: GSM3538487\n",
            "27-Sep-2025 00:29:12 DEBUG GEOparse - SAMPLE: GSM3538488\n",
            "DEBUG:GEOparse:SAMPLE: GSM3538488\n",
            "27-Sep-2025 00:29:12 DEBUG GEOparse - SAMPLE: GSM3538489\n",
            "DEBUG:GEOparse:SAMPLE: GSM3538489\n",
            "27-Sep-2025 00:29:12 DEBUG GEOparse - SAMPLE: GSM3538490\n",
            "DEBUG:GEOparse:SAMPLE: GSM3538490\n",
            "27-Sep-2025 00:29:12 DEBUG GEOparse - SAMPLE: GSM3538491\n",
            "DEBUG:GEOparse:SAMPLE: GSM3538491\n",
            "27-Sep-2025 00:29:13 DEBUG GEOparse - SAMPLE: GSM3538492\n",
            "DEBUG:GEOparse:SAMPLE: GSM3538492\n",
            "27-Sep-2025 00:29:13 DEBUG GEOparse - SAMPLE: GSM3538493\n",
            "DEBUG:GEOparse:SAMPLE: GSM3538493\n",
            "27-Sep-2025 00:29:13 DEBUG GEOparse - SAMPLE: GSM3538494\n",
            "DEBUG:GEOparse:SAMPLE: GSM3538494\n",
            "27-Sep-2025 00:29:13 DEBUG GEOparse - SAMPLE: GSM3538495\n",
            "DEBUG:GEOparse:SAMPLE: GSM3538495\n",
            "27-Sep-2025 00:29:13 DEBUG GEOparse - SAMPLE: GSM3538496\n",
            "DEBUG:GEOparse:SAMPLE: GSM3538496\n"
          ]
        },
        {
          "output_type": "stream",
          "name": "stdout",
          "text": [
            "{'title': ['Breast cancer and normal breast tissue samples to estimate the effect of contamination of breast cancer samples with normal breast tissue'], 'geo_accession': ['GSE124646'], 'status': ['Public on May 30 2019'], 'submission_date': ['Jan 03 2019'], 'last_update_date': ['Jun 29 2019'], 'pubmed_id': ['31231679'], 'summary': ['PURPOSE: To estimate the effect of contamination with normal breast tissue for the development of gene signatures robust to pre-analytical conditions.', 'METHODS: We evaluated the effect of contamination with normal breast tissue on gene signatures by comparing microarray profiles of breast cancer samples contaminated with increasing amounts of normal breast tissue.'], 'overall_design': ['A set of 10 breast cancer samples were mixed with increasing amounts of 10 individual normal breast tissue samples. Samples were contaminated with 0, 10, 25, 50, 75, 80, 85, 90, 95 and 100 % of normal breast tissue, respectively.'], 'type': ['Expression profiling by array'], 'contributor': ['Bruno,V,Sinn', 'William,F,Symmans'], 'sample_id': ['GSM3538397', 'GSM3538398', 'GSM3538399', 'GSM3538400', 'GSM3538401', 'GSM3538402', 'GSM3538403', 'GSM3538404', 'GSM3538405', 'GSM3538406', 'GSM3538407', 'GSM3538408', 'GSM3538409', 'GSM3538410', 'GSM3538411', 'GSM3538412', 'GSM3538413', 'GSM3538414', 'GSM3538415', 'GSM3538416', 'GSM3538417', 'GSM3538418', 'GSM3538419', 'GSM3538420', 'GSM3538421', 'GSM3538422', 'GSM3538423', 'GSM3538424', 'GSM3538425', 'GSM3538426', 'GSM3538427', 'GSM3538428', 'GSM3538429', 'GSM3538430', 'GSM3538431', 'GSM3538432', 'GSM3538433', 'GSM3538434', 'GSM3538435', 'GSM3538436', 'GSM3538437', 'GSM3538438', 'GSM3538439', 'GSM3538440', 'GSM3538441', 'GSM3538442', 'GSM3538443', 'GSM3538444', 'GSM3538445', 'GSM3538446', 'GSM3538447', 'GSM3538448', 'GSM3538449', 'GSM3538450', 'GSM3538451', 'GSM3538452', 'GSM3538453', 'GSM3538454', 'GSM3538455', 'GSM3538456', 'GSM3538457', 'GSM3538458', 'GSM3538459', 'GSM3538460', 'GSM3538461', 'GSM3538462', 'GSM3538463', 'GSM3538464', 'GSM3538465', 'GSM3538466', 'GSM3538467', 'GSM3538468', 'GSM3538469', 'GSM3538470', 'GSM3538471', 'GSM3538472', 'GSM3538473', 'GSM3538474', 'GSM3538475', 'GSM3538476', 'GSM3538477', 'GSM3538478', 'GSM3538479', 'GSM3538480', 'GSM3538481', 'GSM3538482', 'GSM3538483', 'GSM3538484', 'GSM3538485', 'GSM3538486', 'GSM3538487', 'GSM3538488', 'GSM3538489', 'GSM3538490', 'GSM3538491', 'GSM3538492', 'GSM3538493', 'GSM3538494', 'GSM3538495', 'GSM3538496'], 'contact_name': ['Bruno,Valentin,Sinn'], 'contact_email': ['bruno.sinn@charite.de'], 'contact_laboratory': ['W.F. Symmans'], 'contact_department': ['Translational Molecular Pathology'], 'contact_institute': ['University of Texas - MD Anderson Cancer Center'], 'contact_address': ['2130 W Holcombe Blvd'], 'contact_city': ['Houston'], 'contact_state': ['TX'], 'contact_zip/postal_code': ['77030'], 'contact_country': ['USA'], 'supplementary_file': ['ftp://ftp.ncbi.nlm.nih.gov/geo/series/GSE124nnn/GSE124646/suppl/GSE124646_RAW.tar'], 'platform_id': ['GPL96'], 'platform_taxid': ['9606'], 'sample_taxid': ['9606'], 'relation': ['SubSeries of: GSE124648', 'BioProject: https://www.ncbi.nlm.nih.gov/bioproject/PRJNA512930']}\n"
          ]
        }
      ]
    },
    {
      "cell_type": "markdown",
      "source": [
        "## 🟦 3. Visualización de expresión génica\n",
        "\n",
        "\n",
        "### 📊 Visualización de expresión génica\n",
        "\n",
        "Vamos a explorar la expresión de un gen específico en diferentes muestras.\n"
      ],
      "metadata": {
        "id": "mJV3b8tc2T1Q"
      }
    },
    {
      "cell_type": "code",
      "source": [
        "import pandas as pd\n",
        "import matplotlib.pyplot as plt\n",
        "import seaborn as sns\n",
        "\n",
        "# Extraemos la tabla de expresión\n",
        "expression_data = gse.gsms\n",
        "\n",
        "# Seleccionamos un gen de ejemplo (ajustar según el dataset)\n",
        "gene_id = \"ENSG00000139618\"  # BRCA2 como ejemplo\n",
        "\n",
        "# Simulamos una tabla de expresión para ilustrar.\n",
        "data = pd.DataFrame({\n",
        "    \"Muestra\": [\"A\", \"B\", \"C\", \"D\"],\n",
        "    \"Condición\": [\"Control\", \"Tratado\", \"Control\", \"Tratado\"],\n",
        "    \"Expresión\": [5.2, 8.1, 4.9, 7.8]\n",
        "\n",
        "})\n",
        "\n",
        "sns.boxplot(x=\"Condición\", y=\"Expresión\", data=data)\n",
        "plt.title(f\"Expresión del gen {gene_id}\")\n",
        "plt.show()\n"
      ],
      "metadata": {
        "colab": {
          "base_uri": "https://localhost:8080/",
          "height": 472
        },
        "id": "MSAqfIUg2apu",
        "outputId": "eb2e7955-12e5-44eb-8fd0-abb14e8574a8"
      },
      "execution_count": null,
      "outputs": [
        {
          "output_type": "display_data",
          "data": {
            "text/plain": [
              "<Figure size 640x480 with 1 Axes>"
            ],
            "image/png": "[encoded data removed]"
          },
          "metadata": {}
        }
      ]
    },
    {
      "cell_type": "markdown",
      "source": [
        "## 🟦 4. Exploración de datos proteómicos desde PRIDE\n",
        "\n",
        "\n",
        "### 🧪 Datos proteómicos desde PRIDE\n",
        "\n",
        "PRIDE es una base de datos de espectrometría de masas. Vamos a simular la carga de una tabla de abundancia proteica.\n"
      ],
      "metadata": {
        "id": "_2XjaAsl2-ur"
      }
    },
    {
      "cell_type": "code",
      "source": [
        "# Simulamos una tabla de abundancia proteica\n",
        "proteomics_data = pd.DataFrame({\n",
        "    \"Proteína\": [\"P53\", \"BRCA1\", \"EGFR\", \"MYC\"],\n",
        "    \"Control\": [100, 80, 200, 200],\n",
        "    \"Tratado\": [180, 120, 220, 100]\n",
        "})\n",
        "\n",
        "proteomics_data.set_index(\"Proteína\").plot(kind=\"bar\")\n",
        "plt.title(\"Abundancia proteica por condición\")\n",
        "plt.ylabel(\"Intensidad\")\n",
        "plt.show()\n"
      ],
      "metadata": {
        "colab": {
          "base_uri": "https://localhost:8080/",
          "height": 505
        },
        "id": "NVFCm-em3SWH",
        "outputId": "1aa58e66-6721-4bcc-e00f-025ffe95a9fe"
      },
      "execution_count": null,
      "outputs": [
        {
          "output_type": "display_data",
          "data": {
            "text/plain": [
              "<Figure size 640x480 with 1 Axes>"
            ],
            "image/png": "[encoded data removed]"
          },
          "metadata": {}
        }
      ]
    },
    {
      "cell_type": "markdown",
      "source": [
        "## 🟦 5. Análisis comparativo entre condiciones\n",
        "\n",
        "Vamos a calcular la diferencia de expresión entre condiciones para cada proteína.\n"
      ],
      "metadata": {
        "id": "c6n2-QwO3Wkt"
      }
    },
    {
      "cell_type": "code",
      "source": [
        "\n",
        "proteomics_data[\"Diferencia\"] = proteomics_data[\"Tratado\"] - proteomics_data[\"Control\"]\n",
        "print(proteomics_data[[\"Proteína\", \"Diferencia\"]])\n"
      ],
      "metadata": {
        "colab": {
          "base_uri": "https://localhost:8080/"
        },
        "id": "6DAJs_vx3gZX",
        "outputId": "c8e87696-9983-4bf6-dd39-be6fd4cd10d5"
      },
      "execution_count": null,
      "outputs": [
        {
          "output_type": "stream",
          "name": "stdout",
          "text": [
            "  Proteína  Diferencia\n",
            "0      P53          80\n",
            "1    BRCA1          40\n",
            "2     EGFR          20\n",
            "3      MYC        -100\n"
          ]
        }
      ]
    },
    {
      "cell_type": "markdown",
      "source": [
        "📈 6. Preguntas de análisis comparativo\n",
        "\n",
        "- ¿Qué significa una diferencia positiva o negativa en la expresión entre condiciones?\n",
        "La diferencia positiva indica que el nivel de expresión de ese gen ha aumentado luego del tratamiento, mientras que la diferencia negativa indica que el nivel de expresión ha disminuido.\n",
        "\n",
        "- ¿Cómo podrías determinar si esa diferencia es estadísticamente significativa?\n",
        "Mediante una prueba estadística, identificando el nivel de expresión promedio del gen en un estado basal, y comparándolo con el nivel de expresión promedio de ese gen luego del tratamiento. Además, se puede establecer un umbral a partir del cual ya se puede considerar una expresión diferencial significtiva\n",
        "\n",
        "- ¿Qué hipótesis podrías plantear a partir de los resultados obtenidos?\n",
        "  La condición estudiada está asociada a la expresión de genes implicados en la respuesta tumoral.\n"
      ],
      "metadata": {
        "id": "40-OIEEf_Uwj"
      }
    },
    {
      "cell_type": "code",
      "source": [],
      "metadata": {
        "id": "gkooWYY9rP5i"
      },
      "execution_count": null,
      "outputs": []
    }
  ]
}